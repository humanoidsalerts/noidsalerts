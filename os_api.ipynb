{
 "cells": [
  {
   "cell_type": "code",
   "execution_count": 7,
   "id": "8d1cf4d3",
   "metadata": {},
   "outputs": [],
   "source": [
    "# Import dependencies\n",
    "import requests\n",
    "import pprint\n",
    "import json"
   ]
  },
  {
   "cell_type": "code",
   "execution_count": null,
   "id": "44a2af51",
   "metadata": {},
   "outputs": [],
   "source": [
    "# Base url for the humanoids collection\n",
    "\n",
    "url = \"https://api.opensea.io/api/v1/assets?order_direction=desc&offset=0&limit=50&collection=thehumanoids\"\n",
    "\n",
    "# URL for the humanoids project wallet address\n",
    "\n",
    "humanoids_address_url = \"https://api.opensea.io/api/v1/assets?owner=0xb8256c1c6654cedb9607644b07dec91ca15fb9f6&order_direction=desc&offset=0&limit=50\"\n",
    "\n",
    "\n",
    "\n",
    "\n",
    "response = requests.request(\"GET\", humanoids_collection_url)\n",
    "\n",
    "response = requests.request(\"GET\", humanoids_collection_url)\n",
    "json_response = json.loads(response.text)\n",
    "\n"
   ]
  },
  {
   "cell_type": "code",
   "execution_count": null,
   "id": "f90aeb5d",
   "metadata": {},
   "outputs": [],
   "source": [
    "traits =json_response['assets'][0]['traits']\n",
    "for x in range(len(traits)):\n",
    "\n",
    "    print(traits[x]['trait_type'])\n",
    "    print(traits[x]['value'])\n",
    "\n"
   ]
  },
  {
   "cell_type": "code",
   "execution_count": null,
   "id": "0667ad16",
   "metadata": {},
   "outputs": [],
   "source": []
  }
 ],
 "metadata": {
  "kernelspec": {
   "display_name": "Python 3",
   "language": "python",
   "name": "python3"
  },
  "language_info": {
   "codemirror_mode": {
    "name": "ipython",
    "version": 3
   },
   "file_extension": ".py",
   "mimetype": "text/x-python",
   "name": "python",
   "nbconvert_exporter": "python",
   "pygments_lexer": "ipython3",
   "version": "3.8.5"
  }
 },
 "nbformat": 4,
 "nbformat_minor": 5
}
