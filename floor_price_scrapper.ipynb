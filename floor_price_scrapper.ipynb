{
 "cells": [
  {
   "cell_type": "code",
   "execution_count": 14,
   "id": "218f82d4",
   "metadata": {},
   "outputs": [],
   "source": [
    "from selenium import webdriver\n",
    "\n",
    "def scrappe_floor_price():\n",
    "    PATH = '/Users/Shared/ChromeDriver/chromedriver'\n",
    "    driver = webdriver.Chrome(PATH)\n",
    "    driver.get('https://opensea.io/collection/thehumanoids')\n",
    "    floor_link = driver.find_element_by_css_selector('div.gsYngn')\n",
    "    floor_price = floor_link.text.split('\\n')[0]\n",
    "    return floor_price"
   ]
  }
 ],
 "metadata": {
  "kernelspec": {
   "display_name": "Python 3",
   "language": "python",
   "name": "python3"
  },
  "language_info": {
   "codemirror_mode": {
    "name": "ipython",
    "version": 3
   },
   "file_extension": ".py",
   "mimetype": "text/x-python",
   "name": "python",
   "nbconvert_exporter": "python",
   "pygments_lexer": "ipython3",
   "version": "3.8.5"
  }
 },
 "nbformat": 4,
 "nbformat_minor": 5
}
